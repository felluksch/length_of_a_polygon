{
  "nbformat": 4,
  "nbformat_minor": 0,
  "metadata": {
    "colab": {
      "name": "polygonlength.ipynb",
      "provenance": [],
      "collapsed_sections": [],
      "authorship_tag": "ABX9TyO61y7OHSB8XdCwyndP4Qh1",
      "include_colab_link": true
    },
    "kernelspec": {
      "name": "python3",
      "display_name": "Python 3"
    },
    "language_info": {
      "name": "python"
    }
  },
  "cells": [
    {
      "cell_type": "markdown",
      "metadata": {
        "id": "view-in-github",
        "colab_type": "text"
      },
      "source": [
        "<a href=\"https://colab.research.google.com/github/felluksch/length_of_a_polygon/blob/main/polygonlength.ipynb\" target=\"_parent\"><img src=\"https://colab.research.google.com/assets/colab-badge.svg\" alt=\"Open In Colab\"/></a>"
      ]
    },
    {
      "cell_type": "markdown",
      "metadata": {
        "id": "pdAjIt-_j3Db"
      },
      "source": [
        "In this notebook, we're trying to estimate the \"length of a polygon\". This is not a well defined metric; one might describe length in terms of the bounding box of a polygon or approximate a curve that follows the primary axis of the polygon. Depending on the shape of the polygon, humans might intuitively give preference to one of the definitions; e.g. if the polygon approximates a curve, we would describe the \"length\" in terms of that curve. If the shape is more complex, however, most people would probably simplify the geometry mentally and simply draw a straight line along the principal axis of the polygon.\n",
        "\n",
        "Here, we try a method more akin to the \"curve fitting\" approach. We compute the skeleton of the polygon and take the longest path in the skeleton graph as the length of the polygon.\n",
        "\n",
        "But first we need to load the required packages."
      ]
    },
    {
      "cell_type": "code",
      "metadata": {
        "colab": {
          "base_uri": "https://localhost:8080/"
        },
        "id": "uAI8OvaJl6z9",
        "outputId": "88690336-0fbd-4068-9df1-5cfd483e34d7"
      },
      "source": [
        "!pip install geopandas\n",
        "!pip install alphashape\n",
        "!pip install skan\n",
        "#!pip install https://github.com/scikit-image/scikit-image/archive/refs/tags/v0.18.3.tar.gz"
      ],
      "execution_count": 10,
      "outputs": [
        {
          "output_type": "stream",
          "name": "stdout",
          "text": [
            "Requirement already satisfied: geopandas in /usr/local/lib/python3.7/dist-packages (0.10.2)\n",
            "Requirement already satisfied: fiona>=1.8 in /usr/local/lib/python3.7/dist-packages (from geopandas) (1.8.20)\n",
            "Requirement already satisfied: pyproj>=2.2.0 in /usr/local/lib/python3.7/dist-packages (from geopandas) (3.2.1)\n",
            "Requirement already satisfied: pandas>=0.25.0 in /usr/local/lib/python3.7/dist-packages (from geopandas) (1.1.5)\n",
            "Requirement already satisfied: shapely>=1.6 in /usr/local/lib/python3.7/dist-packages (from geopandas) (1.7.1)\n",
            "Requirement already satisfied: certifi in /usr/local/lib/python3.7/dist-packages (from fiona>=1.8->geopandas) (2021.5.30)\n",
            "Requirement already satisfied: six>=1.7 in /usr/local/lib/python3.7/dist-packages (from fiona>=1.8->geopandas) (1.15.0)\n",
            "Requirement already satisfied: munch in /usr/local/lib/python3.7/dist-packages (from fiona>=1.8->geopandas) (2.5.0)\n",
            "Requirement already satisfied: click-plugins>=1.0 in /usr/local/lib/python3.7/dist-packages (from fiona>=1.8->geopandas) (1.1.1)\n",
            "Requirement already satisfied: attrs>=17 in /usr/local/lib/python3.7/dist-packages (from fiona>=1.8->geopandas) (21.2.0)\n",
            "Requirement already satisfied: setuptools in /usr/local/lib/python3.7/dist-packages (from fiona>=1.8->geopandas) (57.4.0)\n",
            "Requirement already satisfied: click>=4.0 in /usr/local/lib/python3.7/dist-packages (from fiona>=1.8->geopandas) (7.1.2)\n",
            "Requirement already satisfied: cligj>=0.5 in /usr/local/lib/python3.7/dist-packages (from fiona>=1.8->geopandas) (0.7.2)\n",
            "Requirement already satisfied: numpy>=1.15.4 in /usr/local/lib/python3.7/dist-packages (from pandas>=0.25.0->geopandas) (1.19.5)\n",
            "Requirement already satisfied: python-dateutil>=2.7.3 in /usr/local/lib/python3.7/dist-packages (from pandas>=0.25.0->geopandas) (2.8.2)\n",
            "Requirement already satisfied: pytz>=2017.2 in /usr/local/lib/python3.7/dist-packages (from pandas>=0.25.0->geopandas) (2018.9)\n",
            "Requirement already satisfied: alphashape in /usr/local/lib/python3.7/dist-packages (1.3.1)\n",
            "Requirement already satisfied: click-log>=0.3.2 in /usr/local/lib/python3.7/dist-packages (from alphashape) (0.3.2)\n",
            "Requirement already satisfied: shapely>=1.4.0 in /usr/local/lib/python3.7/dist-packages (from alphashape) (1.7.1)\n",
            "Requirement already satisfied: networkx>=2.5 in /usr/local/lib/python3.7/dist-packages (from alphashape) (2.6.3)\n",
            "Requirement already satisfied: Click>=6.0 in /usr/local/lib/python3.7/dist-packages (from alphashape) (7.1.2)\n",
            "Requirement already satisfied: trimesh>=3.9.8 in /usr/local/lib/python3.7/dist-packages (from alphashape) (3.9.35)\n",
            "Requirement already satisfied: scipy>=1.0.0 in /usr/local/lib/python3.7/dist-packages (from alphashape) (1.4.1)\n",
            "Requirement already satisfied: rtree>=0.9.7 in /usr/local/lib/python3.7/dist-packages (from alphashape) (0.9.7)\n",
            "Requirement already satisfied: numpy>=1.8.0 in /usr/local/lib/python3.7/dist-packages (from alphashape) (1.19.5)\n",
            "Requirement already satisfied: setuptools in /usr/local/lib/python3.7/dist-packages (from trimesh>=3.9.8->alphashape) (57.4.0)\n",
            "Requirement already satisfied: skan in /usr/local/lib/python3.7/dist-packages (0.9)\n"
          ]
        }
      ]
    },
    {
      "cell_type": "code",
      "metadata": {
        "id": "fDhIRH8HOaoc"
      },
      "source": [
        "import numpy as np\n",
        "from shapely.geometry import Polygon, MultiPoint, LineString, MultiLineString, Point\n",
        "import alphashape\n",
        "import matplotlib.pyplot as plt\n",
        "import geopandas as gpd\n",
        "import pandas as pd\n",
        "from skimage.morphology import medial_axis, skeletonize\n",
        "import scipy.sparse as sparse\n",
        "import skan\n",
        "import gdal\n",
        "import ogr"
      ],
      "execution_count": 11,
      "outputs": []
    },
    {
      "cell_type": "markdown",
      "metadata": {
        "id": "1mwasI_olm_G"
      },
      "source": [
        "We write two classes that we use to generate synthetic data: `GenericPolygon` is a parent class that takes a polygon geometry. In the following, we work with the child class `RandomPolygon` that inherits from `MyPolygon` and generates a polygon (concave or convex) consisting of random coordinates."
      ]
    },
    {
      "cell_type": "code",
      "metadata": {
        "id": "dDoKekws1fcr"
      },
      "source": [
        "class GenericPolygon:\n",
        "  \"\"\"\n",
        "  Class that represents a generic polygon.\n",
        "  Args:\n",
        "    - geometry: Polygon geometry (GeoSeries)\n",
        "  \"\"\"\n",
        "  def __init__(self, geometry):\n",
        "    self.geometry = geometry\n",
        "    self.bbox = self.geometry.bounds\n",
        "\n",
        "class RandomPolygon(GenericPolygon):\n",
        "  def __init__(self, extent, crs, polytype):\n",
        "    \"\"\"\n",
        "    Class that represents a randomly generated polygon.\n",
        "    Args:\n",
        "      - extent: range for randomly generated coordinates as 4-uple of floats: (xmin, xmax, ymin, ymax), format must be aligned with crs\n",
        "      - crs: coordinate reference systems as string, e.g. \"epsg:4326\" for WGS84\n",
        "      - polytype: two options \"concave\" or \"convex\"\n",
        "    \"\"\"\n",
        "    self.polytype = polytype # concave or convex\n",
        "    geom = self.create_geom(extent, crs)\n",
        "    GenericPolygon.__init__(self, geom)\n",
        "\n",
        "  def generate_coords(self, extent):\n",
        "    lon = np.random.uniform(low=extent[0], high=extent[1], size=10) \n",
        "    lat = np.random.uniform(low=extent[2], high=extent[3], size=10)\n",
        "    return list(zip(lon,lat))\n",
        "\n",
        "  def create_geom(self, extent, crs):\n",
        "    self.coords = self.generate_coords(extent)\n",
        "    if self.polytype == \"convex\":\n",
        "      poly = Polygon(self.coords) # to polygon\n",
        "      geom = gpd.GeoSeries(poly.convex_hull) # take convex hull\n",
        "    elif self.polytype == \"concave\":\n",
        "      geom = gpd.GeoSeries(alphashape.alphashape(self.coords))\n",
        "    geom.set_crs(crs)\n",
        "    return geom"
      ],
      "execution_count": 12,
      "outputs": []
    },
    {
      "cell_type": "code",
      "metadata": {
        "id": "W_YU75DzlQwf",
        "colab": {
          "base_uri": "https://localhost:8080/",
          "height": 295
        },
        "outputId": "91a8cc16-89a5-4a17-fa20-616a0c6b1046"
      },
      "source": [
        "random_poly = RandomPolygon((600000.0, 620000.0, 5000000.0, 5020000.0), \"epsg:32630\", \"concave\")\n",
        "random_poly.geometry.plot()"
      ],
      "execution_count": 13,
      "outputs": [
        {
          "output_type": "execute_result",
          "data": {
            "text/plain": [
              "<matplotlib.axes._subplots.AxesSubplot at 0x7f3edd661990>"
            ]
          },
          "metadata": {},
          "execution_count": 13
        },
        {
          "output_type": "display_data",
          "data": {
            "image/png": "[encoded data removed]",
            "text/plain": [
              "<Figure size 432x288 with 1 Axes>"
            ]
          },
          "metadata": {
            "needs_background": "light"
          }
        }
      ]
    },
    {
      "cell_type": "markdown",
      "metadata": {
        "id": "12zGP1mDnkrk"
      },
      "source": [
        "We save the random poly to a file and rasterise in the next step."
      ]
    },
    {
      "cell_type": "code",
      "metadata": {
        "id": "YfDmGHighz1d"
      },
      "source": [
        "random_poly.geometry.to_file(driver='ESRI Shapefile', filename=\"polygon1.shp\")"
      ],
      "execution_count": 14,
      "outputs": []
    },
    {
      "cell_type": "code",
      "metadata": {
        "id": "sDpXHcP6CTtF",
        "colab": {
          "base_uri": "https://localhost:8080/",
          "height": 36
        },
        "outputId": "1faf8767-f912-4271-c027-d27a913f5811"
      },
      "source": [
        "def rasterise(shp_path, output_path):\n",
        "  \"\"\"\n",
        "  Save raster representation of ESRI Shapefile vector layer to GeoTIFF. \n",
        "  Args:\n",
        "    - shp_path: Path to input layer (ESRI Shapefile) as string\n",
        "    - output_path: Path to output layer as string\n",
        "  \"\"\"\n",
        "  shp = ogr.Open(shp_path)\n",
        "\n",
        "  shp_layer = shp.GetLayer(0)\n",
        "  xmin, xmax, ymin, ymax = shp_layer.GetExtent()\n",
        "  pixel_size = 100\n",
        "\n",
        "  ds = gdal.Rasterize(output_path, shp_path, xRes=pixel_size, yRes=pixel_size, \n",
        "                    burnValues=1, outputBounds=[xmin, ymin, xmax, ymax], \n",
        "                    outputType=gdal.GDT_Byte)\n",
        "  ds = None\n",
        "  return output_path\n",
        "\n",
        "rasterise(\"polygon1.shp\", \"raster1.geotiff\")"
      ],
      "execution_count": 15,
      "outputs": [
        {
          "output_type": "execute_result",
          "data": {
            "application/vnd.google.colaboratory.intrinsic+json": {
              "type": "string"
            },
            "text/plain": [
              "'raster1.geotiff'"
            ]
          },
          "metadata": {},
          "execution_count": 15
        }
      ]
    },
    {
      "cell_type": "markdown",
      "metadata": {
        "id": "O2fYoJSlnQ5J"
      },
      "source": [
        "Now we open the newly created raster file."
      ]
    },
    {
      "cell_type": "code",
      "metadata": {
        "id": "mVIZB96Ijsmm",
        "colab": {
          "base_uri": "https://localhost:8080/",
          "height": 324
        },
        "outputId": "7391d720-7e66-492f-8742-334a1f310bb2"
      },
      "source": [
        "raster = gdal.Open(\"raster1.geotiff\")\n",
        "gt = raster.GetGeoTransform()\n",
        "print(gt)\n",
        "\n",
        "raster_arr = raster.ReadAsArray()\n",
        "print(np.unique(raster_arr))\n",
        "plt.imshow(raster_arr)"
      ],
      "execution_count": 16,
      "outputs": [
        {
          "output_type": "stream",
          "name": "stdout",
          "text": [
            "(610439.8540557557, 100.0, 0.0, 5017977.990950754, 0.0, -100.0)\n",
            "[0 1]\n"
          ]
        },
        {
          "output_type": "execute_result",
          "data": {
            "text/plain": [
              "<matplotlib.image.AxesImage at 0x7f3edd567d50>"
            ]
          },
          "metadata": {},
          "execution_count": 16
        },
        {
          "output_type": "display_data",
          "data": {
            "image/png": "[encoded data removed]",
            "text/plain": [
              "<Figure size 432x288 with 1 Axes>"
            ]
          },
          "metadata": {
            "needs_background": "light"
          }
        }
      ]
    },
    {
      "cell_type": "markdown",
      "metadata": {
        "id": "Fp12cqRrF6uP"
      },
      "source": [
        "We write a class that estimates the length based on the skeleton of the polygon."
      ]
    },
    {
      "cell_type": "code",
      "metadata": {
        "id": "ITR5WXzgF6QT"
      },
      "source": [
        "class LengthEstimator:\n",
        "  def __init__(self, raster_arr, gt):\n",
        "    \"\"\"\n",
        "    Initialise an estimator for the length of a polygon by calculating the longest path between endpoints of its skeleton.\n",
        "    Run method \"estimate\" to obtain results.\n",
        "    Args:\n",
        "      - raster_arr: 2-dimensional numpy array representation of a raster layer, where 0 = null and 1 = polygon shape\n",
        "      - gt: GDAL GeoTransform object of the raster layer\n",
        "    \"\"\"\n",
        "    self.raster = raster_arr\n",
        "    self.gt = gt\n",
        "    self.skel = skeletonize(raster_arr)\n",
        "\n",
        "  def plot_skeleton(self):\n",
        "    nonzeros = np.nonzero(self.skel.astype(int))\n",
        "    for x,y in zip(nonzeros[0], nonzeros[1]):\n",
        "      self.raster[x,y] = 0.5\n",
        "\n",
        "    plt.imshow(self.raster)\n",
        "\n",
        "  def estimate(self):\n",
        "    \"\"\"\n",
        "    This method uses the skan package to generate a DataFrame where each row corresponds to an edge in a graph representation of the skeleton\n",
        "    (nodes = junctions and endpoints, edges = path between them). We rename the nodes and create a sparse distance matrix that stores the weights of \n",
        "    the edges (negative distance between nodes). We run a shortest path algorithm on the matrix, the size of the smallest value denotes the longest path,\n",
        "    since shortest path with negative weights = longest path.\n",
        "    \"\"\"\n",
        "    branches = skan.summarize(skan.Skeleton(self.skel)) # generate df of all edges in skeleton\n",
        "\n",
        "    all_nodes = sorted(np.unique(np.concatenate([branches[\"node-id-src\"], branches[\"node-id-dst\"]]))) # all unique nodes in the skeleton\n",
        "    branches[\"endpoints\"] = [(all_nodes.index(a),all_nodes.index(b)) for a,b in zip(branches[\"node-id-src\"], branches[\"node-id-dst\"])] # to tuple indices\n",
        "\n",
        "    matrix = np.zeros((len(all_nodes), len(all_nodes))) # empty matrix\n",
        "\n",
        "    for i in range(len(branches)):\n",
        "      matrix[branches[\"endpoints\"][i]] = -(branches[\"euclidean-distance\"][i] * self.gt[1]) # negative distance between all nodes as weights\n",
        "\n",
        "    graph = sparse.csr_matrix(matrix)\n",
        "\n",
        "    paths = sparse.csgraph.shortest_path(graph) # distance matrix with longest paths (because of negative weights)\n",
        "\n",
        "    return round(-np.amin(paths), 5) # longest path in the graph == longest path between endpoints"
      ],
      "execution_count": 17,
      "outputs": []
    },
    {
      "cell_type": "code",
      "metadata": {
        "colab": {
          "base_uri": "https://localhost:8080/",
          "height": 305
        },
        "id": "1aeOP9IiY0R_",
        "outputId": "68cf4b31-517a-41b9-f7c8-f03e3ef936dd"
      },
      "source": [
        "estim_skel = LengthEstimator(raster_arr, gt)\n",
        "estim_skel.plot_skeleton()\n",
        "print(\"longest path in graph = length of the polygon\")\n",
        "\n",
        "length = estim_skel.estimate()\n",
        "\n",
        "print(\"length:\", length)"
      ],
      "execution_count": 18,
      "outputs": [
        {
          "output_type": "stream",
          "name": "stdout",
          "text": [
            "longest path in graph = length of the polygon\n",
            "length: 21090.27057\n"
          ]
        },
        {
          "output_type": "display_data",
          "data": {
            "image/png": "[encoded data removed]",
            "text/plain": [
              "<Figure size 432x288 with 1 Axes>"
            ]
          },
          "metadata": {
            "needs_background": "light"
          }
        }
      ]
    }
  ]
}
